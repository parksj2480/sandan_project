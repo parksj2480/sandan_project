{
 "cells": [
  {
   "cell_type": "markdown",
   "metadata": {},
   "source": [
    "# 개인 설정"
   ]
  },
  {
   "cell_type": "code",
   "execution_count": null,
   "metadata": {},
   "outputs": [],
   "source": [
    "# 필요 라이브러리 다운로드\n",
    "!pip install selenium\n",
    "!pip install bs4\n",
    "!pip install pandas"
   ]
  },
  {
   "cell_type": "code",
   "execution_count": 1,
   "metadata": {},
   "outputs": [
    {
     "name": "stdout",
     "output_type": "stream",
     "text": [
      "데이터 파일의 이름을 입력하시오 :\n"
     ]
    }
   ],
   "source": [
    "# 각자의 데이터 파일의 이름 입력\n",
    "name = input(\"데이터 파일의 이름을 입력하시오 :\")"
   ]
  },
  {
   "cell_type": "code",
   "execution_count": 1,
   "metadata": {},
   "outputs": [],
   "source": [
    "# 각자의 chromedriver의 위치를 써 넣으시오\n",
    "driver_path='/Users/sangje/Downloads/chromedriver'"
   ]
  },
  {
   "cell_type": "code",
   "execution_count": 14,
   "metadata": {},
   "outputs": [
    {
     "name": "stdout",
     "output_type": "stream",
     "text": [
      "30044번 크롤링 합니다.\n"
     ]
    }
   ],
   "source": [
    "# csv 파일 불러와서 사업자번호 리스트 만들기.\n",
    "import pandas as pd\n",
    "\n",
    "data_path=name+'.csv'\n",
    "df = pd.read_csv(data_path,encoding='cp949') \n",
    "# df=pd.read_excel(\"2908_(송부용) 한국산업단지공단_ESG관련 입주업체 데이터 추출결과_송부용.xlsx\") # 원본데이터\n",
    "\n",
    "num_none=df.isnull().sum().sum()\n",
    "\n",
    "# 결측치 행 걸러내기 \n",
    "crawling_col=['기업규모','매출액_2021']\n",
    "\n",
    "df2=df[(df[crawling_col[0]].isnull()) | (df[crawling_col[1]].isnull())]\n",
    "\n",
    "query_text=list(df2['업체명'])\n",
    "\n",
    "print(\"%s번 크롤링 합니다.\" % len(query_text))"
   ]
  },
  {
   "cell_type": "markdown",
   "metadata": {},
   "source": [
    "# NICE 기업 정보 크롤링하기 ( 매출액, 기업규모 )"
   ]
  },
  {
   "cell_type": "code",
   "execution_count": 15,
   "metadata": {},
   "outputs": [
    {
     "name": "stdout",
     "output_type": "stream",
     "text": [
      "1번째 크롤링 과정에서 오류가 났습니다.\n",
      "5번째 크롤링 과정에서 오류가 났습니다.\n",
      "7번째 크롤링 과정에서 오류가 났습니다.\n",
      "8번째 크롤링 과정에서 오류가 났습니다.\n",
      "10번째 크롤링 과정에서 오류가 났습니다.\n",
      "11번째 크롤링 과정에서 오류가 났습니다.\n",
      "12번째 크롤링 과정에서 오류가 났습니다.\n",
      "14번째 크롤링 과정에서 오류가 났습니다.\n",
      "18번째 크롤링 과정에서 오류가 났습니다.\n"
     ]
    },
    {
     "ename": "KeyboardInterrupt",
     "evalue": "",
     "output_type": "error",
     "traceback": [
      "\u001b[0;31m---------------------------------------------------------------------------\u001b[0m",
      "\u001b[0;31mKeyboardInterrupt\u001b[0m                         Traceback (most recent call last)",
      "Input \u001b[0;32mIn [15]\u001b[0m, in \u001b[0;36m<cell line: 25>\u001b[0;34m()\u001b[0m\n\u001b[1;32m     34\u001b[0m     element\u001b[38;5;241m.\u001b[39msend_keys(input_text)\n\u001b[1;32m     35\u001b[0m     element\u001b[38;5;241m.\u001b[39msend_keys(\u001b[38;5;124m\"\u001b[39m\u001b[38;5;130;01m\\n\u001b[39;00m\u001b[38;5;124m\"\u001b[39m)\n\u001b[0;32m---> 36\u001b[0m     \u001b[43mtime\u001b[49m\u001b[38;5;241;43m.\u001b[39;49m\u001b[43msleep\u001b[49m\u001b[43m(\u001b[49m\u001b[38;5;241;43m1\u001b[39;49m\u001b[43m)\u001b[49m\n\u001b[1;32m     38\u001b[0m \u001b[38;5;28;01mtry\u001b[39;00m:\n\u001b[1;32m     39\u001b[0m     driver\u001b[38;5;241m.\u001b[39mfind_element(By\u001b[38;5;241m.\u001b[39mCLASS_NAME,\u001b[38;5;124m'\u001b[39m\u001b[38;5;124mcompany\u001b[39m\u001b[38;5;124m'\u001b[39m)\u001b[38;5;241m.\u001b[39mclick()\n",
      "\u001b[0;31mKeyboardInterrupt\u001b[0m: "
     ]
    }
   ],
   "source": [
    "# 필요 라이브러리 import\n",
    "from bs4 import BeautifulSoup\n",
    "from selenium import webdriver\n",
    "from selenium.webdriver.common.by import By\n",
    "from selenium.webdriver.common.keys import Keys\n",
    "from selenium.webdriver.chrome.service import Service\n",
    "import time\n",
    "\n",
    "\n",
    "# 정보 저장할 리스트\n",
    "money_list = []\n",
    "size_list=[]\n",
    "\n",
    "name = 'Nice_' + name\n",
    "filename = name + '.csv'  # 파일이름\n",
    "\n",
    "s = Service(driver_path)\n",
    "driver = webdriver.Chrome(executable_path=driver_path)\n",
    "url = 'https://m.nicebizinfo.com/cm/CM0100M001GE.nice'\n",
    "driver.get(url)\n",
    "driver.maximize_window()\n",
    "time.sleep(2)\n",
    "temp=0\n",
    "\n",
    "for i in range(len(query_text)):\n",
    "    temp+=1\n",
    "    # Nice 로고 누르고 검색어 입력하기\n",
    "    driver.find_element(By.ID, 'Header_logo').click()\n",
    "    time.sleep(1)\n",
    "    \n",
    "    element=driver.find_element(By.ID, 'CM0100M001GE_itgSrch')\n",
    "    if str(query_text[i]) != 'nan':\n",
    "        input_text=query_text[i].replace('-','')\n",
    "        element.send_keys(input_text)\n",
    "        element.send_keys(\"\\n\")\n",
    "        time.sleep(1)\n",
    "    # 검색 결과 데이터가 있으면 클릭하여 크롤링.\n",
    "    try:\n",
    "        driver.find_element(By.CLASS_NAME,'company').click()\n",
    "        time.sleep(1)\n",
    "        \n",
    "        driver.execute_script(\"window.scrollBy(0,6000);\")\n",
    "        time.sleep(1)\n",
    "\n",
    "        html = driver.page_source\n",
    "        soup = BeautifulSoup(html, 'html.parser')\n",
    "        \n",
    "        money=soup.find('tbody','aln_c',id='EP0100M002GE_rank').find_all('tr')[1].find('td','aln_r').get_text()\n",
    "        money=float(money.replace(',',''))\n",
    "        money_list.append(money)\n",
    "        \n",
    "        size=soup.find('div',class_='basicinfo').find('dt',id='EP0100M002GE_eqrObl').get_text().split(',')[0]\n",
    "        size_list.append(size)\n",
    "        time.sleep(1)\n",
    "    # 오류시 출력\n",
    "    except:\n",
    "        print(\"%d번째 크롤링 과정에서 오류가 났습니다.\" % temp)\n",
    "        money_list.append(None)\n",
    "        size_list.append(None)\n",
    "        time.sleep(1)\n",
    "\n",
    "# 크롤링 데이터 저장하기\n",
    "df.loc[df2[:len(money_list)].index,['기업규모']]=size_list\n",
    "df.loc[df2[:len(money_list)].index,['매출액_2021']]=money_list\n",
    "\n",
    "num_none2=df.isnull().sum().sum()\n",
    "\n",
    "print(\"총 %d 개의 결측치가 해결되었습니다.\" % num_none-num_none2)\n",
    "\n",
    "df.to_csv(filename,encoding='cp949')"
   ]
  },
  {
   "cell_type": "code",
   "execution_count": null,
   "metadata": {},
   "outputs": [],
   "source": []
  }
 ],
 "metadata": {
  "kernelspec": {
   "display_name": "Python 3 (ipykernel)",
   "language": "python",
   "name": "python3"
  },
  "language_info": {
   "codemirror_mode": {
    "name": "ipython",
    "version": 3
   },
   "file_extension": ".py",
   "mimetype": "text/x-python",
   "name": "python",
   "nbconvert_exporter": "python",
   "pygments_lexer": "ipython3",
   "version": "3.8.13"
  }
 },
 "nbformat": 4,
 "nbformat_minor": 4
}
